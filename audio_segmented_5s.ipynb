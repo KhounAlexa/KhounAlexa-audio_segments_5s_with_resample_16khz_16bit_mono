{
  "nbformat": 4,
  "nbformat_minor": 0,
  "metadata": {
    "colab": {
      "provenance": []
    },
    "kernelspec": {
      "name": "python3",
      "display_name": "Python 3"
    },
    "language_info": {
      "name": "python"
    }
  },
  "cells": [
    {
      "cell_type": "code",
      "execution_count": null,
      "metadata": {
        "colab": {
          "base_uri": "https://localhost:8080/"
        },
        "id": "oOYsUiKAdE53",
        "outputId": "1560f451-fe9a-431c-969d-8e339f9c87e1"
      },
      "outputs": [
        {
          "output_type": "stream",
          "name": "stdout",
          "text": [
            "Audio format is incorrect. Converting to 16-bit, 16 kHz, mono.\n",
            "Exported: output_chunks/antevy_female_23_10106.wav\n",
            "Segmentation complete.\n"
          ]
        },
        {
          "output_type": "execute_result",
          "data": {
            "text/plain": [
              "(True, [<pydub.audio_segment.AudioSegment at 0x7d4f222e7d30>])"
            ]
          },
          "metadata": {},
          "execution_count": 7
        }
      ],
      "source": [
        "from pydub import AudioSegment\n",
        "from pydub.utils import mediainfo\n",
        "import os\n",
        "\n",
        "def segment_and_validate_audio(audio_path, output_dir, chunk_duration=5):\n",
        "    \"\"\"\n",
        "    Segments an audio file into fixed-duration chunks, checks its format,\n",
        "    and converts it to the correct format if necessary. Discards chunks less than the specified duration.\n",
        "\n",
        "    Args:\n",
        "        audio_path (str): Path to the input audio file.\n",
        "        output_dir (str): Directory to save the audio chunks.\n",
        "        chunk_duration (int): Duration of each chunk in seconds (default is 5 seconds).\n",
        "\n",
        "    Returns:\n",
        "        tuple: (bool, list) - True if the audio was successfully processed, False otherwise,\n",
        "               and a list of processed audio chunks.\n",
        "    \"\"\"\n",
        "    # Validate the output directory\n",
        "    os.makedirs(output_dir, exist_ok=True)\n",
        "\n",
        "    # Check audio format using mediainfo\n",
        "    info = mediainfo(audio_path)\n",
        "    is_correct_format = (\n",
        "        info[\"channels\"] == \"1\" and\n",
        "        info[\"sample_rate\"] == \"16000\" and\n",
        "        info[\"sample_fmt\"] == \"s16\"\n",
        "    )\n",
        "\n",
        "    # Load the audio file\n",
        "    audio = AudioSegment.from_file(audio_path)\n",
        "\n",
        "    # Convert audio to correct format if necessary\n",
        "    if not is_correct_format:\n",
        "        print(\"Audio format is incorrect. Converting to 16-bit, 16 kHz, mono.\")\n",
        "        audio = audio.set_channels(1).set_frame_rate(16000).set_sample_width(2)  # 2 bytes = 16 bits\n",
        "\n",
        "    # Segment the audio into chunks\n",
        "    chunk_length_ms = chunk_duration * 1000\n",
        "    base_name = os.path.splitext(os.path.basename(audio_path))[0]  # Extract base name without extension\n",
        "    audio_chunks = []\n",
        "\n",
        "    for i, start in enumerate(range(0, len(audio), chunk_length_ms)):\n",
        "        chunk = audio[start:start + chunk_length_ms]\n",
        "\n",
        "        # Skip chunks less than the desired duration\n",
        "        if len(chunk) < chunk_length_ms:\n",
        "            continue\n",
        "\n",
        "        chunk_name = os.path.join(output_dir, f\"{base_name}.wav\")\n",
        "        chunk.export(chunk_name, format=\"wav\")\n",
        "        print(f\"Exported: {chunk_name}\")\n",
        "        audio_chunks.append(chunk)\n",
        "\n",
        "    print(\"Segmentation complete.\")\n",
        "    return True, audio_chunks\n",
        "\n",
        "\n",
        "# Example usage\n",
        "segment_and_validate_audio(\"/content/antevy_female_23_10106.wav\", \"output_chunks\")\n"
      ]
    },
    {
      "cell_type": "code",
      "source": [
        "!pip install pydub"
      ],
      "metadata": {
        "colab": {
          "base_uri": "https://localhost:8080/"
        },
        "id": "q0i4ApNQePcg",
        "outputId": "4ad1a3f7-7e2d-4108-e322-08b4ab45eaf8"
      },
      "execution_count": null,
      "outputs": [
        {
          "output_type": "stream",
          "name": "stdout",
          "text": [
            "Collecting pydub\n",
            "  Downloading pydub-0.25.1-py2.py3-none-any.whl.metadata (1.4 kB)\n",
            "Downloading pydub-0.25.1-py2.py3-none-any.whl (32 kB)\n",
            "Installing collected packages: pydub\n",
            "Successfully installed pydub-0.25.1\n"
          ]
        }
      ]
    },
    {
      "cell_type": "markdown",
      "source": [
        "# Inspect"
      ],
      "metadata": {
        "id": "UePkD_1ufyLB"
      }
    },
    {
      "cell_type": "code",
      "source": [
        "import numpy as np\n",
        "from scipy.io import wavfile\n",
        "from scipy.signal import resample\n",
        "def inspect_wav_file(file_path):\n",
        "    # Read the audio file\n",
        "    sample_rate, data = wavfile.read(file_path)\n",
        "\n",
        "    # Determine the number of channels (1 for mono, 2 for stereo)\n",
        "    if len(data.shape) == 1:\n",
        "        num_channels = 1  # Mono\n",
        "    else:\n",
        "        num_channels = data.shape[1]\n",
        "\n",
        "    # Determine bit depth by inspecting the dtype of the audio data\n",
        "    bit_depth = data.dtype\n",
        "\n",
        "    return sample_rate, num_channels, bit_depth\n",
        "\n",
        "\n",
        "file_path = '/content/output_chunks/chunk_1.wav'\n",
        "sample_rate, num_channels, bit_depth = inspect_wav_file(file_path)\n",
        "\n",
        "print(f\"Sample Rate: {sample_rate} Hz\")\n",
        "print(f\"Number of Channels: {num_channels} (1 = Mono, 2 = Stereo)\")\n",
        "print(f\"Bit Depth: {bit_depth}\")\n"
      ],
      "metadata": {
        "colab": {
          "base_uri": "https://localhost:8080/"
        },
        "id": "zRZtoKwif0OV",
        "outputId": "1d48fc74-c747-4c8c-cd34-a9c237a0f8f7"
      },
      "execution_count": null,
      "outputs": [
        {
          "output_type": "stream",
          "name": "stdout",
          "text": [
            "Sample Rate: 16000 Hz\n",
            "Number of Channels: 1 (1 = Mono, 2 = Stereo)\n",
            "Bit Depth: int16\n"
          ]
        }
      ]
    },
    {
      "cell_type": "markdown",
      "source": [
        "# Create temp and delete folder"
      ],
      "metadata": {
        "id": "Dv9g-c_NlXp0"
      }
    },
    {
      "cell_type": "code",
      "source": [
        "import tempfile\n",
        "import os\n",
        "import shutil\n",
        "\n",
        "# Create a temporary folder\n",
        "temp_folder = tempfile.mkdtemp()\n",
        "print(f\"Temporary folder created at: {temp_folder}\")\n",
        "\n",
        "# Perform operations inside the temp folder\n",
        "# For example, creating a file in the temp folder:\n",
        "file_path = os.path.join(temp_folder, \"example.txt\")\n",
        "with open(file_path, \"w\") as f:\n",
        "    f.write(\"This is an example file.\")\n",
        "\n",
        "print(f\"File created: {file_path}\")\n",
        "\n",
        "# Clean up the temporary folder\n",
        "shutil.rmtree(temp_folder)\n",
        "print(f\"Temporary folder deleted: {temp_folder}\")\n"
      ],
      "metadata": {
        "id": "TsRt4eqAlaHR"
      },
      "execution_count": null,
      "outputs": []
    }
  ]
}